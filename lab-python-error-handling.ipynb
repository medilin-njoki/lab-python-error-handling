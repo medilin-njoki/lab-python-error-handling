{
 "cells": [
  {
   "cell_type": "markdown",
   "id": "25d7736c-ba17-4aff-b6bb-66eba20fbf4e",
   "metadata": {},
   "source": [
    "# Lab | Error Handling"
   ]
  },
  {
   "cell_type": "markdown",
   "id": "bc99b386-7508-47a0-bcdb-d969deaf6c8b",
   "metadata": {},
   "source": [
    "## Exercise: Error Handling for Managing Customer Orders\n",
    "\n",
    "The implementation of your code for managing customer orders assumes that the user will always enter a valid input. \n",
    "\n",
    "For example, we could modify the `initialize_inventory` function to include error handling.\n",
    "   - If the user enters an invalid quantity (e.g., a negative value or a non-numeric value), display an error message and ask them to re-enter the quantity for that product.\n",
    "   - Use a try-except block to handle the error and continue prompting the user until a valid quantity is entered.\n",
    "\n",
    "```python\n",
    "# Step 1: Define the function for initializing the inventory with error handling\n",
    "def initialize_inventory(products):\n",
    "    inventory = {}\n",
    "    for product in products:\n",
    "        valid_quantity = False\n",
    "        while not valid_quantity:\n",
    "            try:\n",
    "                quantity = int(input(f\"Enter the quantity of {product}s available: \"))\n",
    "                if quantity < 0:\n",
    "                    raise ValueError(\"Invalid quantity! Please enter a non-negative value.\")\n",
    "                valid_quantity = True\n",
    "            except ValueError as error:\n",
    "                print(f\"Error: {error}\")\n",
    "        inventory[product] = quantity\n",
    "    return inventory\n",
    "\n",
    "# Or, in another way:\n",
    "\n",
    "def initialize_inventory(products):\n",
    "    inventory = {}\n",
    "    for product in products:\n",
    "        valid_input = False\n",
    "        while not valid_input:\n",
    "            try:\n",
    "                quantity = int(input(f\"Enter the quantity of {product}s available: \"))\n",
    "                if quantity >= 0:\n",
    "                    inventory[product] = quantity\n",
    "                    valid_input = True\n",
    "                else:\n",
    "                    print(\"Quantity cannot be negative. Please enter a valid quantity.\")\n",
    "            except ValueError:\n",
    "                print(\"Invalid input. Please enter a valid quantity.\")\n",
    "    return inventory\n",
    "```\n",
    "\n",
    "Let's enhance your code by implementing error handling to handle invalid inputs.\n",
    "\n",
    "Follow the steps below to complete the exercise:\n",
    "\n",
    "2. Modify the `calculate_total_price` function to include error handling.\n",
    "   - If the user enters an invalid price (e.g., a negative value or a non-numeric value), display an error message and ask them to re-enter the price for that product.\n",
    "   - Use a try-except block to handle the error and continue prompting the user until a valid price is entered.\n",
    "\n",
    "3. Modify the `get_customer_orders` function to include error handling.\n",
    "   - If the user enters an invalid number of orders (e.g., a negative value or a non-numeric value), display an error message and ask them to re-enter the number of orders.\n",
    "   - If the user enters an invalid product name (e.g., a product name that is not in the inventory), or that doesn't have stock available, display an error message and ask them to re-enter the product name. *Hint: you will need to pass inventory as a parameter*\n",
    "   - Use a try-except block to handle the error and continue prompting the user until a valid product name is entered.\n",
    "\n",
    "4. Test your code by running the program and deliberately entering invalid quantities and product names. Make sure the error handling mechanism works as expected.\n"
   ]
  },
  {
   "cell_type": "code",
   "execution_count": 66,
   "id": "75cf8416",
   "metadata": {},
   "outputs": [],
   "source": [
    "products = [\"t-shirt\",\"mug\",\"hat\",\"book\",\"keychain\"] "
   ]
  },
  {
   "cell_type": "code",
   "execution_count": 67,
   "id": "c3af507f",
   "metadata": {},
   "outputs": [],
   "source": [
    "def initialize_inventory(products):\n",
    "    inventory = {}\n",
    "    for product in products:\n",
    "        valid_input = False\n",
    "        while valid_input == False:\n",
    "            try:\n",
    "                quantity = int(input(f\"Enter the quantity of {product}s available: \"))\n",
    "                if quantity >= 0:\n",
    "                    inventory[product] = quantity\n",
    "                    valid_input = True\n",
    "                else:\n",
    "                    print(\"Quantity cannot be negative. Please enter a valid quantity.\")\n",
    "                    valid_input = False\n",
    "            except ValueError:\n",
    "                print(\"Invalid input. Please enter a valid quantity.\")\n",
    "                valid_input = False\n",
    "    return inventory"
   ]
  },
  {
   "cell_type": "code",
   "execution_count": null,
   "id": "e08c667f",
   "metadata": {},
   "outputs": [],
   "source": [
    "def calculate_total_price(customer_orders):\n",
    "    prices = []\n",
    "    for product in customer_orders:\n",
    "        valid_input = False\n",
    "        while valid_input == False:\n",
    "            try:\n",
    "                price = int(input(f\"Enter the price of {product} available?\"))\n",
    "                if price < 0:\n",
    "                    print(\"price can not be negative number\")\n",
    "                    valid_input = False\n",
    "                else:\n",
    "                    prices.append(price)\n",
    "                    valid_input = True\n",
    "            except ValueError:\n",
    "                print(\"please re-enter the price\")\n",
    "                valid_input = False\n",
    "    return sum(prices)"
   ]
  },
  {
   "cell_type": "code",
   "execution_count": 69,
   "id": "5504661e",
   "metadata": {},
   "outputs": [],
   "source": [
    "def get_customer_orders(inventory):\n",
    "    customer_orders = set()\n",
    "    valid_input = False\n",
    "    num_products = 0\n",
    "    while valid_input == False:\n",
    "        try:\n",
    "            num_products = int(input(\"Enter the number of customer orders\"))\n",
    "            if num_products <= 0:\n",
    "                raise ValueError\n",
    "            else:\n",
    "                valid_input = True\n",
    "        except ValueError:\n",
    "            print(\"please enter a valid positive number\")\n",
    "            valid_input = False\n",
    "    \n",
    "    customer_orders = []\n",
    "    for _ in range(num_products):\n",
    "        valid_input = False\n",
    "        while valid_input == False:\n",
    "            try:\n",
    "                product = input(f\"Enter the name of a product that a customer wants to order\")\n",
    "                if inventory[product] == 0:\n",
    "                    raise ValueError(\"Product not in stock.\")\n",
    "                else:\n",
    "                    customer_orders.append(product)\n",
    "                    valid_input = True\n",
    "            except ValueError as error:\n",
    "                print(f\" Re-enter the product name, {error}\")\n",
    "                valid_input = False\n",
    "            except KeyError:\n",
    "                print(\"Product does not exist in the catalog. Re-enter the product name\")\n",
    "                valid_input = False\n",
    "    return customer_orders"
   ]
  },
  {
   "cell_type": "code",
   "execution_count": 70,
   "id": "57458c0e",
   "metadata": {},
   "outputs": [],
   "source": [
    "def update_inventory(customer_orders, inventory):\n",
    "    for product in customer_orders:\n",
    "        inventory[product] -= 1\n",
    "    inventory = {product: quantity for product, quantity in inventory.items() if quantity > 0}\n",
    "    return inventory"
   ]
  },
  {
   "cell_type": "code",
   "execution_count": 71,
   "id": "4da5e2dc",
   "metadata": {},
   "outputs": [],
   "source": [
    "def calculate_order_statistics(customer_orders, products):\n",
    "    return (len(customer_orders), (len(customer_orders)/len(products))*100)"
   ]
  },
  {
   "cell_type": "code",
   "execution_count": 72,
   "id": "d85e0834",
   "metadata": {},
   "outputs": [],
   "source": [
    "def print_order_statistics(order_statistics):\n",
    "    print(\"Order Statistics:\")\n",
    "    print(f\"Total Products Ordered: {order_statistics[0]}\")\n",
    "    print(f\"Percentage Of Unique Products Ordered: {order_statistics[1]}\")\n",
    "    print(\"\")"
   ]
  },
  {
   "cell_type": "code",
   "execution_count": 73,
   "id": "f73a318c",
   "metadata": {},
   "outputs": [],
   "source": [
    "def print_updated_inventory(inventory):\n",
    "    print(\"Updated Inventory :\")\n",
    "    for product, quantity in inventory.items():\n",
    "        print(f\"  {product}: {quantity}\")"
   ]
  },
  {
   "cell_type": "code",
   "execution_count": 74,
   "id": "0246660b",
   "metadata": {},
   "outputs": [
    {
     "name": "stdout",
     "output_type": "stream",
     "text": [
      " Re-enter the product name, Product not in stock.\n",
      "Product does not exist in the catalog. Re-enter the product name\n",
      "Order Statistics:\n",
      "Total Products Ordered: 2\n",
      "Percentage Of Unique Products Ordered: 40.0\n",
      "\n",
      "Updated Inventory :\n",
      "  t-shirt: 2\n",
      "  mug: 1\n",
      "  book: 3\n",
      "  keychain: 2\n",
      "Total Price: 20\n"
     ]
    }
   ],
   "source": [
    "inventory = initialize_inventory(products)\n",
    "customer_orders = get_customer_orders(inventory)\n",
    "inventory = update_inventory(customer_orders, inventory)\n",
    "order_statistics = calculate_order_statistics(customer_orders, products)\n",
    "print_order_statistics(order_statistics)\n",
    "print_updated_inventory(inventory)\n",
    "print(f\"Total Price: {calculate_total_price(customer_orders)}\")"
   ]
  }
 ],
 "metadata": {
  "kernelspec": {
   "display_name": "base",
   "language": "python",
   "name": "python3"
  },
  "language_info": {
   "codemirror_mode": {
    "name": "ipython",
    "version": 3
   },
   "file_extension": ".py",
   "mimetype": "text/x-python",
   "name": "python",
   "nbconvert_exporter": "python",
   "pygments_lexer": "ipython3",
   "version": "3.13.5"
  }
 },
 "nbformat": 4,
 "nbformat_minor": 5
}
